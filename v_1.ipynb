{
 "cells": [
  {
   "cell_type": "code",
   "execution_count": 4,
   "metadata": {},
   "outputs": [
    {
     "data": {
      "text/html": [
       "<div>\n",
       "<style scoped>\n",
       "    .dataframe tbody tr th:only-of-type {\n",
       "        vertical-align: middle;\n",
       "    }\n",
       "\n",
       "    .dataframe tbody tr th {\n",
       "        vertical-align: top;\n",
       "    }\n",
       "\n",
       "    .dataframe thead th {\n",
       "        text-align: right;\n",
       "    }\n",
       "</style>\n",
       "<table border=\"1\" class=\"dataframe\">\n",
       "  <thead>\n",
       "    <tr style=\"text-align: right;\">\n",
       "      <th></th>\n",
       "      <th>Lot-ID</th>\n",
       "      <th>Wafer-ID</th>\n",
       "      <th>ResultTimestamp</th>\n",
       "      <th>Machine-ID</th>\n",
       "      <th>Step-ID</th>\n",
       "      <th>Device-ID</th>\n",
       "      <th>불량</th>\n",
       "    </tr>\n",
       "  </thead>\n",
       "  <tbody>\n",
       "    <tr>\n",
       "      <th>0</th>\n",
       "      <td>AC10002SA</td>\n",
       "      <td>AC10002-01</td>\n",
       "      <td>01-01-23 04:10:00</td>\n",
       "      <td>A3D02</td>\n",
       "      <td>Metrology-Type-01</td>\n",
       "      <td>AC1</td>\n",
       "      <td>0</td>\n",
       "    </tr>\n",
       "    <tr>\n",
       "      <th>1</th>\n",
       "      <td>AS10001T</td>\n",
       "      <td>AS10001-01</td>\n",
       "      <td>01-01-23 04:12:49</td>\n",
       "      <td>A3D01</td>\n",
       "      <td>Metrology-Type-01</td>\n",
       "      <td>AS1</td>\n",
       "      <td>0</td>\n",
       "    </tr>\n",
       "    <tr>\n",
       "      <th>2</th>\n",
       "      <td>AS10001T</td>\n",
       "      <td>AS10001-02</td>\n",
       "      <td>01-01-23 04:38:19</td>\n",
       "      <td>A3D01</td>\n",
       "      <td>Metrology-Type-01</td>\n",
       "      <td>AS1</td>\n",
       "      <td>0</td>\n",
       "    </tr>\n",
       "    <tr>\n",
       "      <th>3</th>\n",
       "      <td>AC10002SA</td>\n",
       "      <td>AC10002-03</td>\n",
       "      <td>01-01-23 04:41:51</td>\n",
       "      <td>A3D02</td>\n",
       "      <td>Metrology-Type-01</td>\n",
       "      <td>AC1</td>\n",
       "      <td>0</td>\n",
       "    </tr>\n",
       "    <tr>\n",
       "      <th>4</th>\n",
       "      <td>AS10001T</td>\n",
       "      <td>AS10001-03</td>\n",
       "      <td>01-01-23 04:55:52</td>\n",
       "      <td>A3D01</td>\n",
       "      <td>Metrology-Type-01</td>\n",
       "      <td>AS1</td>\n",
       "      <td>0</td>\n",
       "    </tr>\n",
       "  </tbody>\n",
       "</table>\n",
       "</div>"
      ],
      "text/plain": [
       "      Lot-ID    Wafer-ID    ResultTimestamp Machine-ID            Step-ID  \\\n",
       "0  AC10002SA  AC10002-01  01-01-23 04:10:00      A3D02  Metrology-Type-01   \n",
       "1   AS10001T  AS10001-01  01-01-23 04:12:49      A3D01  Metrology-Type-01   \n",
       "2   AS10001T  AS10001-02  01-01-23 04:38:19      A3D01  Metrology-Type-01   \n",
       "3  AC10002SA  AC10002-03  01-01-23 04:41:51      A3D02  Metrology-Type-01   \n",
       "4   AS10001T  AS10001-03  01-01-23 04:55:52      A3D01  Metrology-Type-01   \n",
       "\n",
       "  Device-ID  불량  \n",
       "0       AC1   0  \n",
       "1       AS1   0  \n",
       "2       AS1   0  \n",
       "3       AC1   0  \n",
       "4       AS1   0  "
      ]
     },
     "execution_count": 4,
     "metadata": {},
     "output_type": "execute_result"
    }
   ],
   "source": [
    "from pandas_profiling import profile_report\n",
    "import pandas as pd\n",
    "\n",
    "p = pd.read_csv(\"C:/Users/NTX550/Downloads/Klarf_scenario.txt\", encoding=\"cp949\", sep= \"\\t\")\n",
    "p.head()\n",
    "# first"
   ]
  },
  {
   "cell_type": "code",
   "execution_count": 5,
   "metadata": {},
   "outputs": [],
   "source": [
    "pr=p.profile_report()"
   ]
  },
  {
   "cell_type": "code",
   "execution_count": 6,
   "metadata": {},
   "outputs": [
    {
     "data": {
      "application/vnd.jupyter.widget-view+json": {
       "model_id": "a325e943b06d4886814895c157a30916",
       "version_major": 2,
       "version_minor": 0
      },
      "text/plain": [
       "Summarize dataset:   0%|          | 0/5 [00:00<?, ?it/s]"
      ]
     },
     "metadata": {},
     "output_type": "display_data"
    },
    {
     "name": "stderr",
     "output_type": "stream",
     "text": [
      "c:\\Users\\NTX550\\.conda\\envs\\py38\\lib\\site-packages\\pandas_profiling\\visualisation\\utils.py:73: UserWarning: Glyph 48520 (\\N{HANGUL SYLLABLE BUL}) missing from current font.\n",
      "  plt.savefig(\n",
      "c:\\Users\\NTX550\\.conda\\envs\\py38\\lib\\site-packages\\pandas_profiling\\visualisation\\utils.py:73: UserWarning: Glyph 47049 (\\N{HANGUL SYLLABLE RYANG}) missing from current font.\n",
      "  plt.savefig(\n",
      "c:\\Users\\NTX550\\.conda\\envs\\py38\\lib\\site-packages\\pandas_profiling\\visualisation\\utils.py:73: UserWarning: Glyph 48520 (\\N{HANGUL SYLLABLE BUL}) missing from current font.\n",
      "  plt.savefig(\n",
      "c:\\Users\\NTX550\\.conda\\envs\\py38\\lib\\site-packages\\pandas_profiling\\visualisation\\utils.py:73: UserWarning: Glyph 47049 (\\N{HANGUL SYLLABLE RYANG}) missing from current font.\n",
      "  plt.savefig(\n",
      "c:\\Users\\NTX550\\.conda\\envs\\py38\\lib\\site-packages\\pandas_profiling\\visualisation\\utils.py:73: UserWarning: Glyph 48520 (\\N{HANGUL SYLLABLE BUL}) missing from current font.\n",
      "  plt.savefig(\n",
      "c:\\Users\\NTX550\\.conda\\envs\\py38\\lib\\site-packages\\pandas_profiling\\visualisation\\utils.py:73: UserWarning: Glyph 47049 (\\N{HANGUL SYLLABLE RYANG}) missing from current font.\n",
      "  plt.savefig(\n"
     ]
    },
    {
     "data": {
      "application/vnd.jupyter.widget-view+json": {
       "model_id": "6fdf2b41e42c4085b1886f11502a16e5",
       "version_major": 2,
       "version_minor": 0
      },
      "text/plain": [
       "Generate report structure:   0%|          | 0/1 [00:00<?, ?it/s]"
      ]
     },
     "metadata": {},
     "output_type": "display_data"
    },
    {
     "name": "stderr",
     "output_type": "stream",
     "text": [
      "c:\\Users\\NTX550\\.conda\\envs\\py38\\lib\\site-packages\\pandas_profiling\\visualisation\\utils.py:73: UserWarning: Glyph 48520 (\\N{HANGUL SYLLABLE BUL}) missing from current font.\n",
      "  plt.savefig(\n",
      "c:\\Users\\NTX550\\.conda\\envs\\py38\\lib\\site-packages\\pandas_profiling\\visualisation\\utils.py:73: UserWarning: Glyph 47049 (\\N{HANGUL SYLLABLE RYANG}) missing from current font.\n",
      "  plt.savefig(\n"
     ]
    },
    {
     "data": {
      "application/vnd.jupyter.widget-view+json": {
       "model_id": "39f14e179c384c7ea8808cffa4c209a6",
       "version_major": 2,
       "version_minor": 0
      },
      "text/plain": [
       "Render HTML:   0%|          | 0/1 [00:00<?, ?it/s]"
      ]
     },
     "metadata": {},
     "output_type": "display_data"
    },
    {
     "data": {
      "application/vnd.jupyter.widget-view+json": {
       "model_id": "73748d873b4744c5b10b23291c3137ea",
       "version_major": 2,
       "version_minor": 0
      },
      "text/plain": [
       "Export report to file:   0%|          | 0/1 [00:00<?, ?it/s]"
      ]
     },
     "metadata": {},
     "output_type": "display_data"
    }
   ],
   "source": [
    "pr.to_file('./pr_report.html')"
   ]
  }
 ],
 "metadata": {
  "kernelspec": {
   "display_name": "py38",
   "language": "python",
   "name": "python3"
  },
  "language_info": {
   "codemirror_mode": {
    "name": "ipython",
    "version": 3
   },
   "file_extension": ".py",
   "mimetype": "text/x-python",
   "name": "python",
   "nbconvert_exporter": "python",
   "pygments_lexer": "ipython3",
   "version": "3.8.15 (default, Nov 24 2022, 14:38:14) [MSC v.1916 64 bit (AMD64)]"
  },
  "orig_nbformat": 4,
  "vscode": {
   "interpreter": {
    "hash": "ba1996ca4ac97e82e8c3f1f8edb4d6cb922b55735a887ac0643750b3046c8ba4"
   }
  }
 },
 "nbformat": 4,
 "nbformat_minor": 2
}
